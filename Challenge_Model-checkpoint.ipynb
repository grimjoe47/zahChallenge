{
 "cells": [
  {
   "cell_type": "markdown",
   "id": "2f541c80-6066-407a-a29e-07b01dfdada9",
   "metadata": {},
   "source": [
    "# Model for employee turnover"
   ]
  },
  {
   "cell_type": "code",
   "execution_count": 1,
   "id": "461b5c21-cd8a-468d-93ca-c79372315235",
   "metadata": {},
   "outputs": [],
   "source": [
    "# Processing the data\n",
    "import json\n",
    "import pandas as pd\n",
    "import numpy as np\n",
    "from sklearn.model_selection import train_test_split\n",
    "from sklearn.preprocessing import OrdinalEncoder\n",
    "import matplotlib.pyplot as plt\n",
    "# Ensemble algorithm\n",
    "from sklearn.ensemble import RandomForestClassifier\n",
    "from sklearn.metrics import roc_curve, auc, classification_report, ConfusionMatrixDisplay, recall_score, roc_auc_score\n",
    "# Create a pipeline\n",
    "from sklearn.pipeline import Pipeline\n",
    "from sklearn.compose import ColumnTransformer\n",
    "\n",
    "# To measure performance\n",
    "from sklearn import metrics\n",
    "\n",
    "# Save the model --TESTING --\n",
    "import joblib\n",
    "\n",
    "# Sending and receiving data between end poins --TESTING --\n",
    "import os\n"
   ]
  },
  {
   "cell_type": "code",
   "execution_count": 2,
   "id": "3a9f2c45-74a7-445e-855a-2db3aa0d8faf",
   "metadata": {},
   "outputs": [],
   "source": [
    "np.random.seed(2023)"
   ]
  },
  {
   "cell_type": "markdown",
   "id": "c28c93de-ed8a-4aa9-ba48-782dc64c1058",
   "metadata": {},
   "source": [
    "## Training a Model"
   ]
  },
  {
   "cell_type": "code",
   "execution_count": 3,
   "id": "6ba0949a-11c4-48ed-b306-1a293b12a09d",
   "metadata": {},
   "outputs": [],
   "source": [
    "hrdata = pd.read_csv('HR_Employee_Attrition.csv') #Original\n",
    "#hrdata = pd.read_csv('C:/Users/Magik/Desktop/Backend-Challenge/.ipynb_checkpoints/HR_Employee_Attrition.csv') #For docker testing"
   ]
  },
  {
   "cell_type": "code",
   "execution_count": 4,
   "id": "5402d95f-cee4-469e-a77d-9a8845538bc4",
   "metadata": {},
   "outputs": [
    {
     "data": {
      "text/html": [
       "<div>\n",
       "<style scoped>\n",
       "    .dataframe tbody tr th:only-of-type {\n",
       "        vertical-align: middle;\n",
       "    }\n",
       "\n",
       "    .dataframe tbody tr th {\n",
       "        vertical-align: top;\n",
       "    }\n",
       "\n",
       "    .dataframe thead th {\n",
       "        text-align: right;\n",
       "    }\n",
       "</style>\n",
       "<table border=\"1\" class=\"dataframe\">\n",
       "  <thead>\n",
       "    <tr style=\"text-align: right;\">\n",
       "      <th></th>\n",
       "      <th>Age</th>\n",
       "      <th>Attrition</th>\n",
       "      <th>BusinessTravel</th>\n",
       "      <th>DailyRate</th>\n",
       "      <th>Department</th>\n",
       "      <th>DistanceFromHome</th>\n",
       "      <th>Education</th>\n",
       "      <th>EducationField</th>\n",
       "      <th>EmployeeCount</th>\n",
       "      <th>EmployeeNumber</th>\n",
       "      <th>...</th>\n",
       "      <th>RelationshipSatisfaction</th>\n",
       "      <th>StandardHours</th>\n",
       "      <th>StockOptionLevel</th>\n",
       "      <th>TotalWorkingYears</th>\n",
       "      <th>TrainingTimesLastYear</th>\n",
       "      <th>WorkLifeBalance</th>\n",
       "      <th>YearsAtCompany</th>\n",
       "      <th>YearsInCurrentRole</th>\n",
       "      <th>YearsSinceLastPromotion</th>\n",
       "      <th>YearsWithCurrManager</th>\n",
       "    </tr>\n",
       "  </thead>\n",
       "  <tbody>\n",
       "    <tr>\n",
       "      <th>0</th>\n",
       "      <td>41</td>\n",
       "      <td>Yes</td>\n",
       "      <td>Travel_Rarely</td>\n",
       "      <td>1102</td>\n",
       "      <td>Sales</td>\n",
       "      <td>1</td>\n",
       "      <td>2</td>\n",
       "      <td>Life Sciences</td>\n",
       "      <td>1</td>\n",
       "      <td>1</td>\n",
       "      <td>...</td>\n",
       "      <td>1</td>\n",
       "      <td>80</td>\n",
       "      <td>0</td>\n",
       "      <td>8</td>\n",
       "      <td>0</td>\n",
       "      <td>1</td>\n",
       "      <td>6</td>\n",
       "      <td>4</td>\n",
       "      <td>0</td>\n",
       "      <td>5</td>\n",
       "    </tr>\n",
       "    <tr>\n",
       "      <th>1</th>\n",
       "      <td>49</td>\n",
       "      <td>No</td>\n",
       "      <td>Travel_Frequently</td>\n",
       "      <td>279</td>\n",
       "      <td>Research &amp; Development</td>\n",
       "      <td>8</td>\n",
       "      <td>1</td>\n",
       "      <td>Life Sciences</td>\n",
       "      <td>1</td>\n",
       "      <td>2</td>\n",
       "      <td>...</td>\n",
       "      <td>4</td>\n",
       "      <td>80</td>\n",
       "      <td>1</td>\n",
       "      <td>10</td>\n",
       "      <td>3</td>\n",
       "      <td>3</td>\n",
       "      <td>10</td>\n",
       "      <td>7</td>\n",
       "      <td>1</td>\n",
       "      <td>7</td>\n",
       "    </tr>\n",
       "    <tr>\n",
       "      <th>2</th>\n",
       "      <td>37</td>\n",
       "      <td>Yes</td>\n",
       "      <td>Travel_Rarely</td>\n",
       "      <td>1373</td>\n",
       "      <td>Research &amp; Development</td>\n",
       "      <td>2</td>\n",
       "      <td>2</td>\n",
       "      <td>Other</td>\n",
       "      <td>1</td>\n",
       "      <td>4</td>\n",
       "      <td>...</td>\n",
       "      <td>2</td>\n",
       "      <td>80</td>\n",
       "      <td>0</td>\n",
       "      <td>7</td>\n",
       "      <td>3</td>\n",
       "      <td>3</td>\n",
       "      <td>0</td>\n",
       "      <td>0</td>\n",
       "      <td>0</td>\n",
       "      <td>0</td>\n",
       "    </tr>\n",
       "    <tr>\n",
       "      <th>3</th>\n",
       "      <td>33</td>\n",
       "      <td>No</td>\n",
       "      <td>Travel_Frequently</td>\n",
       "      <td>1392</td>\n",
       "      <td>Research &amp; Development</td>\n",
       "      <td>3</td>\n",
       "      <td>4</td>\n",
       "      <td>Life Sciences</td>\n",
       "      <td>1</td>\n",
       "      <td>5</td>\n",
       "      <td>...</td>\n",
       "      <td>3</td>\n",
       "      <td>80</td>\n",
       "      <td>0</td>\n",
       "      <td>8</td>\n",
       "      <td>3</td>\n",
       "      <td>3</td>\n",
       "      <td>8</td>\n",
       "      <td>7</td>\n",
       "      <td>3</td>\n",
       "      <td>0</td>\n",
       "    </tr>\n",
       "    <tr>\n",
       "      <th>4</th>\n",
       "      <td>27</td>\n",
       "      <td>No</td>\n",
       "      <td>Travel_Rarely</td>\n",
       "      <td>591</td>\n",
       "      <td>Research &amp; Development</td>\n",
       "      <td>2</td>\n",
       "      <td>1</td>\n",
       "      <td>Medical</td>\n",
       "      <td>1</td>\n",
       "      <td>7</td>\n",
       "      <td>...</td>\n",
       "      <td>4</td>\n",
       "      <td>80</td>\n",
       "      <td>1</td>\n",
       "      <td>6</td>\n",
       "      <td>3</td>\n",
       "      <td>3</td>\n",
       "      <td>2</td>\n",
       "      <td>2</td>\n",
       "      <td>2</td>\n",
       "      <td>2</td>\n",
       "    </tr>\n",
       "  </tbody>\n",
       "</table>\n",
       "<p>5 rows × 35 columns</p>\n",
       "</div>"
      ],
      "text/plain": [
       "   Age Attrition     BusinessTravel  DailyRate              Department  \\\n",
       "0   41       Yes      Travel_Rarely       1102                   Sales   \n",
       "1   49        No  Travel_Frequently        279  Research & Development   \n",
       "2   37       Yes      Travel_Rarely       1373  Research & Development   \n",
       "3   33        No  Travel_Frequently       1392  Research & Development   \n",
       "4   27        No      Travel_Rarely        591  Research & Development   \n",
       "\n",
       "   DistanceFromHome  Education EducationField  EmployeeCount  EmployeeNumber  \\\n",
       "0                 1          2  Life Sciences              1               1   \n",
       "1                 8          1  Life Sciences              1               2   \n",
       "2                 2          2          Other              1               4   \n",
       "3                 3          4  Life Sciences              1               5   \n",
       "4                 2          1        Medical              1               7   \n",
       "\n",
       "   ...  RelationshipSatisfaction StandardHours  StockOptionLevel  \\\n",
       "0  ...                         1            80                 0   \n",
       "1  ...                         4            80                 1   \n",
       "2  ...                         2            80                 0   \n",
       "3  ...                         3            80                 0   \n",
       "4  ...                         4            80                 1   \n",
       "\n",
       "   TotalWorkingYears  TrainingTimesLastYear WorkLifeBalance  YearsAtCompany  \\\n",
       "0                  8                      0               1               6   \n",
       "1                 10                      3               3              10   \n",
       "2                  7                      3               3               0   \n",
       "3                  8                      3               3               8   \n",
       "4                  6                      3               3               2   \n",
       "\n",
       "  YearsInCurrentRole  YearsSinceLastPromotion  YearsWithCurrManager  \n",
       "0                  4                        0                     5  \n",
       "1                  7                        1                     7  \n",
       "2                  0                        0                     0  \n",
       "3                  7                        3                     0  \n",
       "4                  2                        2                     2  \n",
       "\n",
       "[5 rows x 35 columns]"
      ]
     },
     "execution_count": 4,
     "metadata": {},
     "output_type": "execute_result"
    }
   ],
   "source": [
    "hrdata.head()"
   ]
  },
  {
   "cell_type": "code",
   "execution_count": 5,
   "id": "bad7e39c-9a5e-4677-a1c8-55c604c2b244",
   "metadata": {},
   "outputs": [
    {
     "data": {
      "text/plain": [
       "(1470, 35)"
      ]
     },
     "execution_count": 5,
     "metadata": {},
     "output_type": "execute_result"
    }
   ],
   "source": [
    "hrdata.shape"
   ]
  },
  {
   "cell_type": "code",
   "execution_count": 6,
   "id": "46babf17-7132-4fe2-8b32-bb87fe7d8a16",
   "metadata": {},
   "outputs": [],
   "source": [
    "train_hrdata = hrdata.drop(columns=['EmployeeCount','EmployeeNumber','JobLevel', \n",
    "                                    'Over18', 'StandardHours', 'TotalWorkingYears'])"
   ]
  },
  {
   "cell_type": "code",
   "execution_count": 7,
   "id": "820ab0de-4b4f-4e1c-8deb-0c4ee0906505",
   "metadata": {},
   "outputs": [],
   "source": [
    "train_hrdata['Attrition'] = train_hrdata.Attrition.map({'Yes':1,\n",
    "                                              'No':0})"
   ]
  },
  {
   "cell_type": "code",
   "execution_count": 8,
   "id": "1d38a705-849b-4b2f-b058-1baa3ff9c055",
   "metadata": {},
   "outputs": [],
   "source": [
    "categorical_attributes = ['BusinessTravel', 'OverTime',\n",
    "                          'Department', 'EducationField', \n",
    "                          'Gender','JobRole','MaritalStatus']"
   ]
  },
  {
   "cell_type": "code",
   "execution_count": 9,
   "id": "5988728e-a973-48f2-9748-b9a09e2b298b",
   "metadata": {},
   "outputs": [],
   "source": [
    "rf = RandomForestClassifier(max_depth=10, \n",
    "                            max_features=12, # \n",
    "                            n_estimators=180, # \n",
    "                            random_state=2023, \n",
    "                            n_jobs=-1)\n",
    "\n",
    "cat_pipe = ColumnTransformer([('ordinal_encoder', OrdinalEncoder(), categorical_attributes)],\n",
    "                             remainder='passthrough')\n",
    "\n",
    "pipe_model = Pipeline([\n",
    "      ('encoder', cat_pipe),\n",
    "      ('classification', rf )\n",
    "    ])"
   ]
  },
  {
   "cell_type": "code",
   "execution_count": 10,
   "id": "acd20036-6aa2-4f7b-bc7c-c80c3b17d606",
   "metadata": {},
   "outputs": [],
   "source": [
    "df1=  train_hrdata[train_hrdata.Attrition==0].sample(600).reset_index(drop=True)\n",
    "df2=  train_hrdata[train_hrdata.Attrition == 1]\n",
    "train_set = pd.concat([df1 , df2 , df2] , axis=0).reset_index(drop=True)"
   ]
  },
  {
   "cell_type": "code",
   "execution_count": 11,
   "id": "c1af66b4-3231-4746-abba-7b5e35e149d4",
   "metadata": {},
   "outputs": [
    {
     "name": "stdout",
     "output_type": "stream",
     "text": [
      "(1074, 28)\n",
      "(1074,)\n"
     ]
    }
   ],
   "source": [
    "x = train_set.drop(columns=['Attrition']) ### Drop before having the target variable\n",
    "y = train_set['Attrition']\n",
    "\n",
    "print(x.shape)\n",
    "print(y.shape)"
   ]
  },
  {
   "cell_type": "code",
   "execution_count": 12,
   "id": "1fba9c30-531d-48be-9484-9e2677878e3a",
   "metadata": {},
   "outputs": [],
   "source": [
    "x_train, x_test, y_train, y_test = train_test_split(x,y, \n",
    "                                                    random_state=2023, \n",
    "                                                    test_size=0.2,\n",
    "                                                    stratify =y)"
   ]
  },
  {
   "cell_type": "code",
   "execution_count": 13,
   "id": "2b2c0c75-bc35-455b-a9ce-21e23e21561f",
   "metadata": {},
   "outputs": [
    {
     "name": "stdout",
     "output_type": "stream",
     "text": [
      "Accuracy Score of Random Forest Classifier is:  0.8558139534883721\n",
      "Recall Score of Random Forest Classifier Model is:  0.8842105263157894\n"
     ]
    }
   ],
   "source": [
    "pipe_model.fit(x_train, y_train)\n",
    "y_pred = pipe_model.predict(x_test)\n",
    "\n",
    "print('Accuracy Score of Random Forest Classifier is: ', metrics.accuracy_score(y_test, y_pred))\n",
    "print('Recall Score of Random Forest Classifier Model is: ', metrics.recall_score(y_test, y_pred))"
   ]
  },
  {
   "cell_type": "code",
   "execution_count": 14,
   "id": "58467407-5c34-4df4-b44e-dac222bf4e51",
   "metadata": {},
   "outputs": [
    {
     "name": "stdout",
     "output_type": "stream",
     "text": [
      "              precision    recall  f1-score   support\n",
      "\n",
      "           0       0.90      0.83      0.87       120\n",
      "           1       0.81      0.88      0.84        95\n",
      "\n",
      "    accuracy                           0.86       215\n",
      "   macro avg       0.85      0.86      0.86       215\n",
      "weighted avg       0.86      0.86      0.86       215\n",
      "\n"
     ]
    }
   ],
   "source": [
    "print(metrics.classification_report(y_test, y_pred))"
   ]
  },
  {
   "cell_type": "code",
   "execution_count": 15,
   "id": "077c05f2-a79e-4b88-a8df-c0259189998b",
   "metadata": {},
   "outputs": [],
   "source": [
    "val_cols = list(train_set.columns)"
   ]
  },
  {
   "cell_type": "code",
   "execution_count": 16,
   "id": "7287f13e-0fef-4572-b3cd-9b5e1e7e5a18",
   "metadata": {},
   "outputs": [],
   "source": [
    "val_cols.remove('Attrition')"
   ]
  },
  {
   "cell_type": "code",
   "execution_count": 17,
   "id": "1bdd3702-1e74-447c-adc4-53289c72acd6",
   "metadata": {},
   "outputs": [
    {
     "data": {
      "text/plain": [
       "Text(0.5, 0, 'False Positive Rate')"
      ]
     },
     "execution_count": 17,
     "metadata": {},
     "output_type": "execute_result"
    },
    {
     "data": {
      "image/png": "[encoded data removed]",
      "text/plain": [
       "<Figure size 2000x500 with 2 Axes>"
      ]
     },
     "metadata": {},
     "output_type": "display_data"
    }
   ],
   "source": [
    "fig, ax = plt.subplots(1, 2, figsize=(20,5))\n",
    "ax[0].set_title('Confusion Matrix:')\n",
    "ConfusionMatrixDisplay.from_predictions(y_test, y_pred, colorbar=False, cmap='Blues', ax=ax[0])\n",
    "ax[0].grid(False)\n",
    "\n",
    "scoring = pipe_model.predict_proba(x_test[val_cols])[:,1]\n",
    "# Compute ROC metrics:\n",
    "fpr, tpr, thresholds = roc_curve(y_test.values, scoring)\n",
    "roc_auc = auc(fpr, tpr)\n",
    "                        \n",
    "ax[1].set_title('ROC Curve - Classifier')\n",
    "ax[1].plot(fpr, tpr, label = 'AUC = %0.2f' % roc_auc, c='teal')\n",
    "ax[1].plot([0,1],[0,1],'--', c='skyblue')\n",
    "ax[1].legend(loc='lower right')\n",
    "ax[1].set_ylabel('True Positive Rate')\n",
    "ax[1].set_xlabel('False Positive Rate')"
   ]
  },
  {
   "cell_type": "markdown",
   "id": "c2991f97-90a2-4f4d-b149-718dc479e209",
   "metadata": {},
   "source": [
    "## Generate Dataset with Turnover score column"
   ]
  },
  {
   "cell_type": "code",
   "execution_count": 18,
   "id": "33a15e59-f960-4bc1-89e2-173520c9e88b",
   "metadata": {},
   "outputs": [],
   "source": [
    "hrdata[\"turnover_score\"] = pipe_model.predict_proba(hrdata[val_cols])[:,1] # "
   ]
  },
  {
   "cell_type": "code",
   "execution_count": 19,
   "id": "1a350506-526b-4406-a195-64d17a245919",
   "metadata": {},
   "outputs": [
    {
     "data": {
      "text/html": [
       "<div>\n",
       "<style scoped>\n",
       "    .dataframe tbody tr th:only-of-type {\n",
       "        vertical-align: middle;\n",
       "    }\n",
       "\n",
       "    .dataframe tbody tr th {\n",
       "        vertical-align: top;\n",
       "    }\n",
       "\n",
       "    .dataframe thead th {\n",
       "        text-align: right;\n",
       "    }\n",
       "</style>\n",
       "<table border=\"1\" class=\"dataframe\">\n",
       "  <thead>\n",
       "    <tr style=\"text-align: right;\">\n",
       "      <th></th>\n",
       "      <th>EmployeeNumber</th>\n",
       "      <th>turnover_score</th>\n",
       "    </tr>\n",
       "  </thead>\n",
       "  <tbody>\n",
       "    <tr>\n",
       "      <th>0</th>\n",
       "      <td>1</td>\n",
       "      <td>0.911652</td>\n",
       "    </tr>\n",
       "    <tr>\n",
       "      <th>1</th>\n",
       "      <td>2</td>\n",
       "      <td>0.111505</td>\n",
       "    </tr>\n",
       "    <tr>\n",
       "      <th>2</th>\n",
       "      <td>4</td>\n",
       "      <td>0.969250</td>\n",
       "    </tr>\n",
       "    <tr>\n",
       "      <th>3</th>\n",
       "      <td>5</td>\n",
       "      <td>0.636063</td>\n",
       "    </tr>\n",
       "    <tr>\n",
       "      <th>4</th>\n",
       "      <td>7</td>\n",
       "      <td>0.349997</td>\n",
       "    </tr>\n",
       "  </tbody>\n",
       "</table>\n",
       "</div>"
      ],
      "text/plain": [
       "   EmployeeNumber  turnover_score\n",
       "0               1        0.911652\n",
       "1               2        0.111505\n",
       "2               4        0.969250\n",
       "3               5        0.636063\n",
       "4               7        0.349997"
      ]
     },
     "execution_count": 19,
     "metadata": {},
     "output_type": "execute_result"
    }
   ],
   "source": [
    "hrdata[['EmployeeNumber','turnover_score']].head()"
   ]
  },
  {
   "cell_type": "code",
   "execution_count": 20,
   "id": "61da6ec1-2482-4f90-bf0e-1e2b5576bb9e",
   "metadata": {},
   "outputs": [],
   "source": [
    "# Write locally the results of using the model\n",
    "# hrdata[['EmployeeNumber','turnover_score']].to_csv('turnover_score_by_employee_number.csv', index=False)"
   ]
  },
  {
   "cell_type": "markdown",
   "id": "11992e41-497a-4498-ac5e-3b5c88e7d767",
   "metadata": {},
   "source": [
    "## Save model locally"
   ]
  },
  {
   "cell_type": "code",
   "execution_count": 21,
   "id": "9651c21c-d4c6-4a7a-917d-32843d08061f",
   "metadata": {},
   "outputs": [
    {
     "data": {
      "text/plain": [
       "['clf.zahoree']"
      ]
     },
     "execution_count": 21,
     "metadata": {},
     "output_type": "execute_result"
    }
   ],
   "source": [
    "joblib.dump(pipe_model, 'clf.zahoree')\n",
    "# Save the model to an absolute path\n",
    "#model_save_path = '/home/jovyan/model_save/clf.zahoree'\n",
    "#joblib.dump(pipe_model, model_save_path)"
   ]
  },
  {
   "cell_type": "markdown",
   "id": "3a1b90bf-3423-444c-b968-13439035be83",
   "metadata": {},
   "source": [
    "## Load Model\n",
    "\n",
    "How to load the model:"
   ]
  },
  {
   "cell_type": "code",
   "execution_count": 22,
   "id": "79dc12c3-c529-4124-8537-d221706a3ed2",
   "metadata": {},
   "outputs": [],
   "source": [
    "clf = joblib.load('clf.zahoree')"
   ]
  },
  {
   "cell_type": "markdown",
   "id": "a1105b22-4530-4e86-ab7f-97a929c07178",
   "metadata": {},
   "source": [
    "### Create a record for testing"
   ]
  },
  {
   "cell_type": "code",
   "execution_count": 23,
   "id": "b4819ca8-e2ad-4b5d-8cd7-7d36a2f80e7d",
   "metadata": {},
   "outputs": [],
   "source": [
    "hrdata2 = pd.read_csv('HR_Employee_Attrition.csv')"
   ]
  },
  {
   "cell_type": "code",
   "execution_count": 24,
   "id": "59ffcfd2-e625-4d58-8bb7-5424c40e2821",
   "metadata": {},
   "outputs": [],
   "source": [
    "collaborator_rn = np.random.choice(range(1,hrdata2.shape[1]))"
   ]
  },
  {
   "cell_type": "code",
   "execution_count": 25,
   "id": "704f2443-2379-4dc6-bcb9-6a2744b990ec",
   "metadata": {},
   "outputs": [],
   "source": [
    "collaborator = pd.DataFrame(hrdata2.iloc[collaborator_rn,:]).T"
   ]
  },
  {
   "cell_type": "code",
   "execution_count": 26,
   "id": "78a8def5-6441-426f-9ec5-2f18fcd2dad9",
   "metadata": {},
   "outputs": [],
   "source": [
    "collaborator.drop(columns=['EmployeeCount', \n",
    "                           'Attrition',\n",
    "                           'JobLevel', \n",
    "                           'Over18',\n",
    "                           'StandardHours', \n",
    "                           'TotalWorkingYears'], inplace=True)"
   ]
  },
  {
   "cell_type": "markdown",
   "id": "eb7a95cd-233d-4e48-b72b-913ed75d9e3e",
   "metadata": {},
   "source": [
    "### Generate json example using the record for testing"
   ]
  },
  {
   "cell_type": "code",
   "execution_count": 27,
   "id": "ff88cb59-86e8-4707-82f9-991e44345ad0",
   "metadata": {},
   "outputs": [
    {
     "data": {
      "text/plain": [
       "'[{\"Age\":53,\"BusinessTravel\":\"Travel_Rarely\",\"DailyRate\":1219,\"Department\":\"Sales\",\"DistanceFromHome\":2,\"Education\":4,\"EducationField\":\"Life Sciences\",\"EmployeeNumber\":23,\"EnvironmentSatisfaction\":1,\"Gender\":\"Female\",\"HourlyRate\":78,\"JobInvolvement\":2,\"JobRole\":\"Manager\",\"JobSatisfaction\":4,\"MaritalStatus\":\"Married\",\"MonthlyIncome\":15427,\"MonthlyRate\":22021,\"NumCompaniesWorked\":2,\"OverTime\":\"No\",\"PercentSalaryHike\":16,\"PerformanceRating\":3,\"RelationshipSatisfaction\":3,\"StockOptionLevel\":0,\"TrainingTimesLastYear\":3,\"WorkLifeBalance\":3,\"YearsAtCompany\":25,\"YearsInCurrentRole\":8,\"YearsSinceLastPromotion\":3,\"YearsWithCurrManager\":7}]'"
      ]
     },
     "execution_count": 27,
     "metadata": {},
     "output_type": "execute_result"
    }
   ],
   "source": [
    "collaborator.to_json(orient=\"records\")"
   ]
  },
  {
   "cell_type": "markdown",
   "id": "02c9eebf-4f44-4986-84e4-4051fcb05f8d",
   "metadata": {},
   "source": [
    "### Create a new json example, not in the original dataset, for testing\n",
    "\n",
    "You can use the last random record to generate another."
   ]
  },
  {
   "cell_type": "code",
   "execution_count": 28,
   "id": "f10445d9-6c18-489e-a6c4-77b16af0bf96",
   "metadata": {},
   "outputs": [],
   "source": [
    "example = {\"Age\":22,  \n",
    "           \"BusinessTravel\":\"Travel_Frequently\",  \n",
    "           \"DailyRate\":29, \n",
    "           \"Department\":\"Research & Development\", \n",
    "           \"DistanceFromHome\":15, \n",
    "           \"Education\":3,  \n",
    "           \"EducationField\":\"Life Sciences\",  \n",
    "           \"EmployeeNumber\":6569999,  \n",
    "           \"EnvironmentSatisfaction\":13,  \n",
    "           \"Gender\":\"Male\",  \n",
    "           \"HourlyRate\":61,  \n",
    "           \"JobInvolvement\":2,  \n",
    "           \"JobRole\":\"Research Scientist\",  \n",
    "           \"JobSatisfaction\":1,  \n",
    "           \"MaritalStatus\":\"Married\",  \n",
    "           \"MonthlyIncome\":51,  \n",
    "           \"MonthlyRate\":24907, \n",
    "           \"NumCompaniesWorked\":1, \n",
    "           \"OverTime\":\"Yes\", \n",
    "           \"PercentSalaryHike\":23, \n",
    "           \"PerformanceRating\":4, \n",
    "           \"RelationshipSatisfaction\":4,  \n",
    "           \"StockOptionLevel\":1,  \n",
    "           \"TrainingTimesLastYear\":3,  \n",
    "           \"WorkLifeBalance\":3,  \n",
    "           \"YearsAtCompany\":5,  \n",
    "           \"YearsInCurrentRole\":2,  \n",
    "           \"YearsSinceLastPromotion\":5,  \n",
    "           \"YearsWithCurrManager\":2}"
   ]
  },
  {
   "cell_type": "code",
   "execution_count": 29,
   "id": "46d00697-cf1f-4e4e-972a-386a97541b40",
   "metadata": {},
   "outputs": [],
   "source": [
    "new_example = json.dumps(example)"
   ]
  },
  {
   "cell_type": "markdown",
   "id": "303cf7dd-de92-4166-8620-21dc82e0e595",
   "metadata": {},
   "source": [
    "### Use the example from the dataset or the new example to test prediction"
   ]
  },
  {
   "cell_type": "code",
   "execution_count": 30,
   "id": "1e63f31d-6c6c-4e59-9c5e-bcbdb4ea87ca",
   "metadata": {},
   "outputs": [],
   "source": [
    "# Use an existing example in the dataset:\n",
    "#data = json.loads(request)\n",
    "\n",
    "# Use the new example:\n",
    "data = json.loads(new_example)"
   ]
  },
  {
   "cell_type": "code",
   "execution_count": 31,
   "id": "ede7d56d-c8ba-4693-97bd-93b6e6992fb7",
   "metadata": {},
   "outputs": [],
   "source": [
    "def hr_predict(request):\n",
    "    df = pd.DataFrame([request])\n",
    "    ID = df['EmployeeNumber'][0]\n",
    "    df.drop(columns=['EmployeeNumber'], inplace=True)\n",
    "    prediction = clf.predict_proba(df) #\n",
    "    output = {'ID': ID , 'prediction': list(prediction[:,1])[0]}\n",
    "    ##transform\n",
    "    json_data = str(output)\n",
    "    return json_data"
   ]
  },
  {
   "cell_type": "code",
   "execution_count": 32,
   "id": "ea699d34-af1b-48e8-a39e-a1a0019b331d",
   "metadata": {},
   "outputs": [
    {
     "data": {
      "text/plain": [
       "\"{'ID': 6569999, 'prediction': 0.7355138688472023}\""
      ]
     },
     "execution_count": 32,
     "metadata": {},
     "output_type": "execute_result"
    }
   ],
   "source": [
    "hr_predict(data)"
   ]
  },
  {
   "cell_type": "markdown",
   "id": "4b8088f0-d961-4461-9736-4b74fc1679c9",
   "metadata": {},
   "source": [
    "> This is the prediction output for a new input data corresponding to a new collaborator."
   ]
  },
  {
   "cell_type": "code",
   "execution_count": 33,
   "id": "feca170e",
   "metadata": {},
   "outputs": [
    {
     "name": "stdout",
     "output_type": "stream",
     "text": [
      "Predictions updated and saved to JSON file: hr_data_prediction.json\n"
     ]
    }
   ],
   "source": [
    "# List of columns to drop\n",
    "columns_to_drop = ['EmployeeCount', 'Attrition', 'JobLevel', 'Over18', 'StandardHours', 'TotalWorkingYears']\n",
    "\n",
    "def hr_predictall(hrdata2, clf):\n",
    "    results = []\n",
    "    # Loop through each row\n",
    "    for index, row in hrdata2.iterrows():\n",
    "        employee_number = row['EmployeeNumber']\n",
    "        #print(f\"Row Index: {index}, EmployeeNumber: {employee_number}\")\n",
    "        \n",
    "        # Create a new DataFrame with the current row\n",
    "        collaborator = pd.DataFrame(hrdata2.loc[index, :]).T\n",
    "        \n",
    "        # Drop specified columns from collaborator DataFrame\n",
    "        collaborator.drop(columns=columns_to_drop, inplace=True)\n",
    "        \n",
    "        # Create a DataFrame for the request\n",
    "        df = pd.DataFrame([row])\n",
    "        ID = employee_number\n",
    "        df.drop(columns=['EmployeeNumber'], inplace=True)\n",
    "        \n",
    "        # Generate predictions using clf (replace with your classifier)\n",
    "        prediction = clf.predict_proba(df)\n",
    "        \n",
    "        # Create output dictionary\n",
    "        output = {'ID': ID, 'prediction': list(prediction[:, 1])[0]}\n",
    "        results.append(output)\n",
    "        \n",
    "    return results\n",
    "\n",
    "#add to json\n",
    "hr_predict_output = hr_predictall(hrdata2,clf)\n",
    "\n",
    "# JSON file path\n",
    "json_file_path = 'hr_data_prediction.json'\n",
    "\n",
    "# Load existing JSON data if the file exists\n",
    "existing_data = []\n",
    "if os.path.exists(json_file_path):\n",
    "    with open(json_file_path, 'r') as f:\n",
    "        existing_data = json.load(f)\n",
    "\n",
    "# Ensure that existing_data is a list\n",
    "if not isinstance(existing_data, list):\n",
    "    existing_data = []\n",
    "\n",
    "# Combine existing data with new predictions\n",
    "combined_data = existing_data + hr_predict_output\n",
    "\n",
    "# Save updated data to the JSON file\n",
    "with open(json_file_path, 'w') as f:\n",
    "    json.dump(combined_data, f)\n",
    "\n",
    "print(\"Predictions updated and saved to JSON file:\", json_file_path)"
   ]
  }
 ],
 "metadata": {
  "kernelspec": {
   "display_name": "Python 3 (ipykernel)",
   "language": "python",
   "name": "python3"
  },
  "language_info": {
   "codemirror_mode": {
    "name": "ipython",
    "version": 3
   },
   "file_extension": ".py",
   "mimetype": "text/x-python",
   "name": "python",
   "nbconvert_exporter": "python",
   "pygments_lexer": "ipython3",
   "version": "3.11.4"
  }
 },
 "nbformat": 4,
 "nbformat_minor": 5
}
